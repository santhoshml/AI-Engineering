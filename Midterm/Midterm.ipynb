{
 "cells": [
  {
   "cell_type": "code",
   "execution_count": 1,
   "metadata": {},
   "outputs": [
    {
     "name": "stdout",
     "output_type": "stream",
     "text": [
      "Requirement already satisfied: langchain-openai in /opt/anaconda3/envs/llmops-course/lib/python3.11/site-packages (0.1.4)\n",
      "Requirement already satisfied: langchain-core in /opt/anaconda3/envs/llmops-course/lib/python3.11/site-packages (0.1.48)\n",
      "Requirement already satisfied: tiktoken in /opt/anaconda3/envs/llmops-course/lib/python3.11/site-packages (0.6.0)\n",
      "Requirement already satisfied: langchain in /opt/anaconda3/envs/llmops-course/lib/python3.11/site-packages (0.1.17)\n",
      "Requirement already satisfied: langchain-community in /opt/anaconda3/envs/llmops-course/lib/python3.11/site-packages (0.0.36)\n",
      "Requirement already satisfied: chainlit in /opt/anaconda3/envs/llmops-course/lib/python3.11/site-packages (1.0.506)\n",
      "Requirement already satisfied: uvicorn in /opt/anaconda3/envs/llmops-course/lib/python3.11/site-packages (0.25.0)\n",
      "Requirement already satisfied: pymupdf in /opt/anaconda3/envs/llmops-course/lib/python3.11/site-packages (1.24.2)\n",
      "Requirement already satisfied: qdrant-client in /opt/anaconda3/envs/llmops-course/lib/python3.11/site-packages (1.9.0)\n",
      "Requirement already satisfied: ragas in /opt/anaconda3/envs/llmops-course/lib/python3.11/site-packages (0.1.7)\n",
      "Requirement already satisfied: openai<2.0.0,>=1.10.0 in /opt/anaconda3/envs/llmops-course/lib/python3.11/site-packages (from langchain-openai) (1.23.6)\n",
      "Requirement already satisfied: PyYAML>=5.3 in /opt/anaconda3/envs/llmops-course/lib/python3.11/site-packages (from langchain-core) (6.0.1)\n",
      "Requirement already satisfied: jsonpatch<2.0,>=1.33 in /opt/anaconda3/envs/llmops-course/lib/python3.11/site-packages (from langchain-core) (1.33)\n",
      "Requirement already satisfied: langsmith<0.2.0,>=0.1.0 in /opt/anaconda3/envs/llmops-course/lib/python3.11/site-packages (from langchain-core) (0.1.49)\n",
      "Requirement already satisfied: packaging<24.0,>=23.2 in /opt/anaconda3/envs/llmops-course/lib/python3.11/site-packages (from langchain-core) (23.2)\n",
      "Requirement already satisfied: pydantic<3,>=1 in /opt/anaconda3/envs/llmops-course/lib/python3.11/site-packages (from langchain-core) (2.6.4)\n",
      "Requirement already satisfied: tenacity<9.0.0,>=8.1.0 in /opt/anaconda3/envs/llmops-course/lib/python3.11/site-packages (from langchain-core) (8.2.3)\n",
      "Requirement already satisfied: regex>=2022.1.18 in /opt/anaconda3/envs/llmops-course/lib/python3.11/site-packages (from tiktoken) (2024.4.16)\n",
      "Requirement already satisfied: requests>=2.26.0 in /opt/anaconda3/envs/llmops-course/lib/python3.11/site-packages (from tiktoken) (2.31.0)\n",
      "Requirement already satisfied: SQLAlchemy<3,>=1.4 in /opt/anaconda3/envs/llmops-course/lib/python3.11/site-packages (from langchain) (2.0.29)\n",
      "Requirement already satisfied: aiohttp<4.0.0,>=3.8.3 in /opt/anaconda3/envs/llmops-course/lib/python3.11/site-packages (from langchain) (3.9.5)\n",
      "Requirement already satisfied: dataclasses-json<0.7,>=0.5.7 in /opt/anaconda3/envs/llmops-course/lib/python3.11/site-packages (from langchain) (0.5.14)\n",
      "Requirement already satisfied: langchain-text-splitters<0.1,>=0.0.1 in /opt/anaconda3/envs/llmops-course/lib/python3.11/site-packages (from langchain) (0.0.1)\n",
      "Requirement already satisfied: numpy<2,>=1 in /opt/anaconda3/envs/llmops-course/lib/python3.11/site-packages (from langchain) (1.26.4)\n",
      "Requirement already satisfied: aiofiles<24.0.0,>=23.1.0 in /opt/anaconda3/envs/llmops-course/lib/python3.11/site-packages (from chainlit) (23.2.1)\n",
      "Requirement already satisfied: asyncer<0.0.3,>=0.0.2 in /opt/anaconda3/envs/llmops-course/lib/python3.11/site-packages (from chainlit) (0.0.2)\n",
      "Requirement already satisfied: click<9.0.0,>=8.1.3 in /opt/anaconda3/envs/llmops-course/lib/python3.11/site-packages (from chainlit) (8.1.7)\n",
      "Requirement already satisfied: fastapi<0.111.0,>=0.110.1 in /opt/anaconda3/envs/llmops-course/lib/python3.11/site-packages (from chainlit) (0.110.3)\n",
      "Requirement already satisfied: fastapi-socketio<0.0.11,>=0.0.10 in /opt/anaconda3/envs/llmops-course/lib/python3.11/site-packages (from chainlit) (0.0.10)\n",
      "Requirement already satisfied: filetype<2.0.0,>=1.2.0 in /opt/anaconda3/envs/llmops-course/lib/python3.11/site-packages (from chainlit) (1.2.0)\n",
      "Requirement already satisfied: httpx>=0.23.0 in /opt/anaconda3/envs/llmops-course/lib/python3.11/site-packages (from chainlit) (0.27.0)\n",
      "Requirement already satisfied: lazify<0.5.0,>=0.4.0 in /opt/anaconda3/envs/llmops-course/lib/python3.11/site-packages (from chainlit) (0.4.0)\n",
      "Requirement already satisfied: literalai==0.0.509 in /opt/anaconda3/envs/llmops-course/lib/python3.11/site-packages (from chainlit) (0.0.509)\n",
      "Requirement already satisfied: nest-asyncio<2.0.0,>=1.5.6 in /opt/anaconda3/envs/llmops-course/lib/python3.11/site-packages (from chainlit) (1.6.0)\n",
      "Requirement already satisfied: pyjwt<3.0.0,>=2.8.0 in /opt/anaconda3/envs/llmops-course/lib/python3.11/site-packages (from chainlit) (2.8.0)\n",
      "Requirement already satisfied: python-dotenv<2.0.0,>=1.0.0 in /opt/anaconda3/envs/llmops-course/lib/python3.11/site-packages (from chainlit) (1.0.1)\n",
      "Requirement already satisfied: python-graphql-client<0.5.0,>=0.4.3 in /opt/anaconda3/envs/llmops-course/lib/python3.11/site-packages (from chainlit) (0.4.3)\n",
      "Requirement already satisfied: python-multipart<0.0.10,>=0.0.9 in /opt/anaconda3/envs/llmops-course/lib/python3.11/site-packages (from chainlit) (0.0.9)\n",
      "Requirement already satisfied: starlette<0.38.0,>=0.37.2 in /opt/anaconda3/envs/llmops-course/lib/python3.11/site-packages (from chainlit) (0.37.2)\n",
      "Requirement already satisfied: syncer<3.0.0,>=2.0.3 in /opt/anaconda3/envs/llmops-course/lib/python3.11/site-packages (from chainlit) (2.0.3)\n",
      "Requirement already satisfied: tomli<3.0.0,>=2.0.1 in /opt/anaconda3/envs/llmops-course/lib/python3.11/site-packages (from chainlit) (2.0.1)\n",
      "Requirement already satisfied: uptrace<2.0.0,>=1.22.0 in /opt/anaconda3/envs/llmops-course/lib/python3.11/site-packages (from chainlit) (1.24.0)\n",
      "Requirement already satisfied: watchfiles<0.21.0,>=0.20.0 in /opt/anaconda3/envs/llmops-course/lib/python3.11/site-packages (from chainlit) (0.20.0)\n",
      "Requirement already satisfied: chevron>=0.14.0 in /opt/anaconda3/envs/llmops-course/lib/python3.11/site-packages (from literalai==0.0.509->chainlit) (0.14.0)\n",
      "Requirement already satisfied: h11>=0.8 in /opt/anaconda3/envs/llmops-course/lib/python3.11/site-packages (from uvicorn) (0.14.0)\n",
      "Requirement already satisfied: PyMuPDFb==1.24.1 in /opt/anaconda3/envs/llmops-course/lib/python3.11/site-packages (from pymupdf) (1.24.1)\n",
      "Requirement already satisfied: grpcio>=1.41.0 in /opt/anaconda3/envs/llmops-course/lib/python3.11/site-packages (from qdrant-client) (1.62.2)\n",
      "Requirement already satisfied: grpcio-tools>=1.41.0 in /opt/anaconda3/envs/llmops-course/lib/python3.11/site-packages (from qdrant-client) (1.62.2)\n",
      "Requirement already satisfied: portalocker<3.0.0,>=2.7.0 in /opt/anaconda3/envs/llmops-course/lib/python3.11/site-packages (from qdrant-client) (2.8.2)\n",
      "Requirement already satisfied: urllib3<3,>=1.26.14 in /opt/anaconda3/envs/llmops-course/lib/python3.11/site-packages (from qdrant-client) (2.2.1)\n",
      "Requirement already satisfied: datasets in /opt/anaconda3/envs/llmops-course/lib/python3.11/site-packages (from ragas) (2.19.0)\n",
      "Requirement already satisfied: pysbd>=0.3.4 in /opt/anaconda3/envs/llmops-course/lib/python3.11/site-packages (from ragas) (0.3.4)\n",
      "Requirement already satisfied: appdirs in /opt/anaconda3/envs/llmops-course/lib/python3.11/site-packages (from ragas) (1.4.4)\n",
      "Requirement already satisfied: aiosignal>=1.1.2 in /opt/anaconda3/envs/llmops-course/lib/python3.11/site-packages (from aiohttp<4.0.0,>=3.8.3->langchain) (1.3.1)\n",
      "Requirement already satisfied: attrs>=17.3.0 in /opt/anaconda3/envs/llmops-course/lib/python3.11/site-packages (from aiohttp<4.0.0,>=3.8.3->langchain) (23.2.0)\n",
      "Requirement already satisfied: frozenlist>=1.1.1 in /opt/anaconda3/envs/llmops-course/lib/python3.11/site-packages (from aiohttp<4.0.0,>=3.8.3->langchain) (1.4.1)\n",
      "Requirement already satisfied: multidict<7.0,>=4.5 in /opt/anaconda3/envs/llmops-course/lib/python3.11/site-packages (from aiohttp<4.0.0,>=3.8.3->langchain) (6.0.5)\n",
      "Requirement already satisfied: yarl<2.0,>=1.0 in /opt/anaconda3/envs/llmops-course/lib/python3.11/site-packages (from aiohttp<4.0.0,>=3.8.3->langchain) (1.9.4)\n",
      "Requirement already satisfied: anyio<4.0.0,>=3.4.0 in /opt/anaconda3/envs/llmops-course/lib/python3.11/site-packages (from asyncer<0.0.3,>=0.0.2->chainlit) (3.7.1)\n",
      "Requirement already satisfied: marshmallow<4.0.0,>=3.18.0 in /opt/anaconda3/envs/llmops-course/lib/python3.11/site-packages (from dataclasses-json<0.7,>=0.5.7->langchain) (3.21.1)\n",
      "Requirement already satisfied: typing-inspect<1,>=0.4.0 in /opt/anaconda3/envs/llmops-course/lib/python3.11/site-packages (from dataclasses-json<0.7,>=0.5.7->langchain) (0.9.0)\n",
      "Requirement already satisfied: typing-extensions>=4.8.0 in /opt/anaconda3/envs/llmops-course/lib/python3.11/site-packages (from fastapi<0.111.0,>=0.110.1->chainlit) (4.10.0)\n",
      "Requirement already satisfied: python-socketio>=4.6.0 in /opt/anaconda3/envs/llmops-course/lib/python3.11/site-packages (from fastapi-socketio<0.0.11,>=0.0.10->chainlit) (5.11.2)\n",
      "Requirement already satisfied: protobuf<5.0dev,>=4.21.6 in /opt/anaconda3/envs/llmops-course/lib/python3.11/site-packages (from grpcio-tools>=1.41.0->qdrant-client) (4.25.3)\n",
      "Requirement already satisfied: setuptools in /opt/anaconda3/envs/llmops-course/lib/python3.11/site-packages (from grpcio-tools>=1.41.0->qdrant-client) (68.2.2)\n",
      "Requirement already satisfied: certifi in /opt/anaconda3/envs/llmops-course/lib/python3.11/site-packages (from httpx>=0.23.0->chainlit) (2024.2.2)\n",
      "Requirement already satisfied: httpcore==1.* in /opt/anaconda3/envs/llmops-course/lib/python3.11/site-packages (from httpx>=0.23.0->chainlit) (1.0.5)\n",
      "Requirement already satisfied: idna in /opt/anaconda3/envs/llmops-course/lib/python3.11/site-packages (from httpx>=0.23.0->chainlit) (3.6)\n",
      "Requirement already satisfied: sniffio in /opt/anaconda3/envs/llmops-course/lib/python3.11/site-packages (from httpx>=0.23.0->chainlit) (1.3.1)\n",
      "Requirement already satisfied: h2<5,>=3 in /opt/anaconda3/envs/llmops-course/lib/python3.11/site-packages (from httpx[http2]>=0.20.0->qdrant-client) (4.1.0)\n",
      "Requirement already satisfied: jsonpointer>=1.9 in /opt/anaconda3/envs/llmops-course/lib/python3.11/site-packages (from jsonpatch<2.0,>=1.33->langchain-core) (2.4)\n",
      "Requirement already satisfied: orjson<4.0.0,>=3.9.14 in /opt/anaconda3/envs/llmops-course/lib/python3.11/site-packages (from langsmith<0.2.0,>=0.1.0->langchain-core) (3.10.0)\n",
      "Requirement already satisfied: distro<2,>=1.7.0 in /opt/anaconda3/envs/llmops-course/lib/python3.11/site-packages (from openai<2.0.0,>=1.10.0->langchain-openai) (1.9.0)\n",
      "Requirement already satisfied: tqdm>4 in /opt/anaconda3/envs/llmops-course/lib/python3.11/site-packages (from openai<2.0.0,>=1.10.0->langchain-openai) (4.66.2)\n",
      "Requirement already satisfied: annotated-types>=0.4.0 in /opt/anaconda3/envs/llmops-course/lib/python3.11/site-packages (from pydantic<3,>=1->langchain-core) (0.6.0)\n",
      "Requirement already satisfied: pydantic-core==2.16.3 in /opt/anaconda3/envs/llmops-course/lib/python3.11/site-packages (from pydantic<3,>=1->langchain-core) (2.16.3)\n",
      "Requirement already satisfied: websockets>=5.0 in /opt/anaconda3/envs/llmops-course/lib/python3.11/site-packages (from python-graphql-client<0.5.0,>=0.4.3->chainlit) (12.0)\n",
      "Requirement already satisfied: charset-normalizer<4,>=2 in /opt/anaconda3/envs/llmops-course/lib/python3.11/site-packages (from requests>=2.26.0->tiktoken) (3.3.2)\n",
      "Requirement already satisfied: greenlet!=0.4.17 in /opt/anaconda3/envs/llmops-course/lib/python3.11/site-packages (from SQLAlchemy<3,>=1.4->langchain) (3.0.3)\n",
      "Requirement already satisfied: opentelemetry-api~=1.24 in /opt/anaconda3/envs/llmops-course/lib/python3.11/site-packages (from uptrace<2.0.0,>=1.22.0->chainlit) (1.24.0)\n",
      "Requirement already satisfied: opentelemetry-exporter-otlp~=1.24 in /opt/anaconda3/envs/llmops-course/lib/python3.11/site-packages (from uptrace<2.0.0,>=1.22.0->chainlit) (1.24.0)\n",
      "Requirement already satisfied: opentelemetry-instrumentation~=0.45b0 in /opt/anaconda3/envs/llmops-course/lib/python3.11/site-packages (from uptrace<2.0.0,>=1.22.0->chainlit) (0.45b0)\n",
      "Requirement already satisfied: opentelemetry-sdk~=1.24 in /opt/anaconda3/envs/llmops-course/lib/python3.11/site-packages (from uptrace<2.0.0,>=1.22.0->chainlit) (1.24.0)\n",
      "Requirement already satisfied: filelock in /opt/anaconda3/envs/llmops-course/lib/python3.11/site-packages (from datasets->ragas) (3.13.4)\n",
      "Requirement already satisfied: pyarrow>=12.0.0 in /opt/anaconda3/envs/llmops-course/lib/python3.11/site-packages (from datasets->ragas) (16.0.0)\n",
      "Requirement already satisfied: pyarrow-hotfix in /opt/anaconda3/envs/llmops-course/lib/python3.11/site-packages (from datasets->ragas) (0.6)\n",
      "Requirement already satisfied: dill<0.3.9,>=0.3.0 in /opt/anaconda3/envs/llmops-course/lib/python3.11/site-packages (from datasets->ragas) (0.3.8)\n",
      "Requirement already satisfied: pandas in /opt/anaconda3/envs/llmops-course/lib/python3.11/site-packages (from datasets->ragas) (2.2.2)\n",
      "Requirement already satisfied: xxhash in /opt/anaconda3/envs/llmops-course/lib/python3.11/site-packages (from datasets->ragas) (3.4.1)\n",
      "Requirement already satisfied: multiprocess in /opt/anaconda3/envs/llmops-course/lib/python3.11/site-packages (from datasets->ragas) (0.70.16)\n",
      "Requirement already satisfied: fsspec<=2024.3.1,>=2023.1.0 in /opt/anaconda3/envs/llmops-course/lib/python3.11/site-packages (from fsspec[http]<=2024.3.1,>=2023.1.0->datasets->ragas) (2024.3.1)\n",
      "Requirement already satisfied: huggingface-hub>=0.21.2 in /opt/anaconda3/envs/llmops-course/lib/python3.11/site-packages (from datasets->ragas) (0.22.2)\n",
      "Requirement already satisfied: hyperframe<7,>=6.0 in /opt/anaconda3/envs/llmops-course/lib/python3.11/site-packages (from h2<5,>=3->httpx[http2]>=0.20.0->qdrant-client) (6.0.1)\n",
      "Requirement already satisfied: hpack<5,>=4.0 in /opt/anaconda3/envs/llmops-course/lib/python3.11/site-packages (from h2<5,>=3->httpx[http2]>=0.20.0->qdrant-client) (4.0.0)\n",
      "Requirement already satisfied: deprecated>=1.2.6 in /opt/anaconda3/envs/llmops-course/lib/python3.11/site-packages (from opentelemetry-api~=1.24->uptrace<2.0.0,>=1.22.0->chainlit) (1.2.14)\n",
      "Requirement already satisfied: importlib-metadata<=7.0,>=6.0 in /opt/anaconda3/envs/llmops-course/lib/python3.11/site-packages (from opentelemetry-api~=1.24->uptrace<2.0.0,>=1.22.0->chainlit) (7.0.0)\n",
      "Requirement already satisfied: opentelemetry-exporter-otlp-proto-grpc==1.24.0 in /opt/anaconda3/envs/llmops-course/lib/python3.11/site-packages (from opentelemetry-exporter-otlp~=1.24->uptrace<2.0.0,>=1.22.0->chainlit) (1.24.0)\n",
      "Requirement already satisfied: opentelemetry-exporter-otlp-proto-http==1.24.0 in /opt/anaconda3/envs/llmops-course/lib/python3.11/site-packages (from opentelemetry-exporter-otlp~=1.24->uptrace<2.0.0,>=1.22.0->chainlit) (1.24.0)\n",
      "Requirement already satisfied: googleapis-common-protos~=1.52 in /opt/anaconda3/envs/llmops-course/lib/python3.11/site-packages (from opentelemetry-exporter-otlp-proto-grpc==1.24.0->opentelemetry-exporter-otlp~=1.24->uptrace<2.0.0,>=1.22.0->chainlit) (1.63.0)\n",
      "Requirement already satisfied: opentelemetry-exporter-otlp-proto-common==1.24.0 in /opt/anaconda3/envs/llmops-course/lib/python3.11/site-packages (from opentelemetry-exporter-otlp-proto-grpc==1.24.0->opentelemetry-exporter-otlp~=1.24->uptrace<2.0.0,>=1.22.0->chainlit) (1.24.0)\n",
      "Requirement already satisfied: opentelemetry-proto==1.24.0 in /opt/anaconda3/envs/llmops-course/lib/python3.11/site-packages (from opentelemetry-exporter-otlp-proto-grpc==1.24.0->opentelemetry-exporter-otlp~=1.24->uptrace<2.0.0,>=1.22.0->chainlit) (1.24.0)\n",
      "Requirement already satisfied: wrapt<2.0.0,>=1.0.0 in /opt/anaconda3/envs/llmops-course/lib/python3.11/site-packages (from opentelemetry-instrumentation~=0.45b0->uptrace<2.0.0,>=1.22.0->chainlit) (1.16.0)\n",
      "Requirement already satisfied: opentelemetry-semantic-conventions==0.45b0 in /opt/anaconda3/envs/llmops-course/lib/python3.11/site-packages (from opentelemetry-sdk~=1.24->uptrace<2.0.0,>=1.22.0->chainlit) (0.45b0)\n",
      "Requirement already satisfied: bidict>=0.21.0 in /opt/anaconda3/envs/llmops-course/lib/python3.11/site-packages (from python-socketio>=4.6.0->fastapi-socketio<0.0.11,>=0.0.10->chainlit) (0.23.1)\n",
      "Requirement already satisfied: python-engineio>=4.8.0 in /opt/anaconda3/envs/llmops-course/lib/python3.11/site-packages (from python-socketio>=4.6.0->fastapi-socketio<0.0.11,>=0.0.10->chainlit) (4.9.0)\n",
      "Requirement already satisfied: mypy-extensions>=0.3.0 in /opt/anaconda3/envs/llmops-course/lib/python3.11/site-packages (from typing-inspect<1,>=0.4.0->dataclasses-json<0.7,>=0.5.7->langchain) (1.0.0)\n",
      "Requirement already satisfied: python-dateutil>=2.8.2 in /opt/anaconda3/envs/llmops-course/lib/python3.11/site-packages (from pandas->datasets->ragas) (2.9.0)\n",
      "Requirement already satisfied: pytz>=2020.1 in /opt/anaconda3/envs/llmops-course/lib/python3.11/site-packages (from pandas->datasets->ragas) (2024.1)\n",
      "Requirement already satisfied: tzdata>=2022.7 in /opt/anaconda3/envs/llmops-course/lib/python3.11/site-packages (from pandas->datasets->ragas) (2024.1)\n",
      "Requirement already satisfied: zipp>=0.5 in /opt/anaconda3/envs/llmops-course/lib/python3.11/site-packages (from importlib-metadata<=7.0,>=6.0->opentelemetry-api~=1.24->uptrace<2.0.0,>=1.22.0->chainlit) (3.17.0)\n",
      "Requirement already satisfied: six>=1.5 in /opt/anaconda3/envs/llmops-course/lib/python3.11/site-packages (from python-dateutil>=2.8.2->pandas->datasets->ragas) (1.16.0)\n",
      "Requirement already satisfied: simple-websocket>=0.10.0 in /opt/anaconda3/envs/llmops-course/lib/python3.11/site-packages (from python-engineio>=4.8.0->python-socketio>=4.6.0->fastapi-socketio<0.0.11,>=0.0.10->chainlit) (1.0.0)\n",
      "Requirement already satisfied: wsproto in /opt/anaconda3/envs/llmops-course/lib/python3.11/site-packages (from simple-websocket>=0.10.0->python-engineio>=4.8.0->python-socketio>=4.6.0->fastapi-socketio<0.0.11,>=0.0.10->chainlit) (1.2.0)\n"
     ]
    }
   ],
   "source": [
    "!pip install langchain-openai langchain-core tiktoken langchain langchain-community chainlit uvicorn pymupdf qdrant-client ragas"
   ]
  },
  {
   "cell_type": "code",
   "execution_count": 3,
   "metadata": {},
   "outputs": [],
   "source": [
    "from langchain_openai import ChatOpenAI\n",
    "import tiktoken\n",
    "from langchain_community.document_loaders import PyMuPDFLoader\n",
    "from langchain_core.prompts import ChatPromptTemplate\n",
    "from langchain.text_splitter import RecursiveCharacterTextSplitter\n",
    "from langchain_openai.embeddings import OpenAIEmbeddings\n",
    "from langchain_community.vectorstores import Qdrant\n",
    "from ragas.testset.generator import TestsetGenerator\n",
    "from operator import itemgetter\n",
    "from langchain.schema.runnable import RunnablePassthrough\n",
    "from utils import *\n",
    "import os\n",
    "import getpass\n",
    "from langchain.globals import set_debug\n",
    "from langchain_openai import ChatOpenAI, OpenAI\n",
    "from langchain.retrievers.multi_query import MultiQueryRetriever\n",
    "from langchain.retrievers import ContextualCompressionRetriever\n",
    "from langchain.retrievers.document_compressors import LLMChainExtractor\n"
   ]
  },
  {
   "cell_type": "code",
   "execution_count": 4,
   "metadata": {},
   "outputs": [],
   "source": [
    "os.environ[\"OPENAI_API_KEY\"] = getpass.getpass(\"OpenAI API Key:\")"
   ]
  },
  {
   "cell_type": "code",
   "execution_count": 5,
   "metadata": {},
   "outputs": [],
   "source": [
    "openai_chat_model = ChatOpenAI(model=\"gpt-3.5-turbo\")\n",
    "enc = tiktoken.encoding_for_model(\"gpt-3.5-turbo\")\n",
    "docs = PyMuPDFLoader(\"meta-10k.pdf\").load()\n",
    "embedding_model = OpenAIEmbeddings(model=\"text-embedding-3-small\")\n",
    "generator_llm = ChatOpenAI(model=\"gpt-3.5-turbo-16k\")\n",
    "critic_llm = ChatOpenAI(model=\"gpt-4-turbo\")\n",
    "test_generator = TestsetGenerator.from_langchain(\n",
    "    generator_llm,\n",
    "    critic_llm,\n",
    "    OpenAIEmbeddings()\n",
    ")\n"
   ]
  },
  {
   "cell_type": "code",
   "execution_count": 10,
   "metadata": {},
   "outputs": [],
   "source": [
    "def tiktoken_len(text) -> int:\n",
    "    tokens = tiktoken.encoding_for_model(\"gpt-3.5-turbo\").encode(\n",
    "        text,\n",
    "    )\n",
    "    return len(tokens)\n",
    "\n",
    "def split_into_chunks():\n",
    "    text_splitter = RecursiveCharacterTextSplitter(\n",
    "        chunk_size=2000, chunk_overlap=200, length_function=tiktoken_len\n",
    "    )\n",
    "    split_chunks = text_splitter.split_documents(docs)\n",
    "    \n",
    "    return split_chunks\n",
    "\n",
    "def init_prompt() -> ChatPromptTemplate:\n",
    "    RAG_PROMPT = \"\"\"\n",
    "        ###Instruction###:\n",
    "        Answer the question based only on the following context. If you cannot answer the question with the context, please respond with \"I don't know\":\n",
    "        \n",
    "        CONTEXT:\n",
    "        {context}\n",
    "\n",
    "        QUERY:\n",
    "        {question}            \n",
    "        \"\"\"\n",
    "    rag_prompt = ChatPromptTemplate.from_template(RAG_PROMPT)\n",
    "    return rag_prompt\n",
    "\n",
    "def get_vector_store(split_chunks):\n",
    "    qdrant_vectorstore = Qdrant.from_documents(\n",
    "        split_chunks,\n",
    "        embedding_model,\n",
    "        location=\":memory:\",\n",
    "        collection_name=\"meta-10k\",\n",
    "    )\n",
    "    return qdrant_vectorstore\n",
    "\n",
    "def generate_test_set()-> None:\n",
    "    text_splitter_eval = RecursiveCharacterTextSplitter(\n",
    "        chunk_size = 600,\n",
    "        chunk_overlap = 50\n",
    "    )\n",
    "    eval_documents = text_splitter_eval.split_documents(docs)\n",
    "    distributions = {\n",
    "        \"simple\": 0.5,\n",
    "        \"multi_context\": 0.4,\n",
    "        \"reasoning\": 0.1\n",
    "    }\n",
    "    testset = test_generator.generate_with_langchain_docs(eval_documents, 20, distributions, is_async = False)\n",
    "    print(len(testset.to_pandas()))\n",
    "\n"
   ]
  },
  {
   "cell_type": "code",
   "execution_count": 11,
   "metadata": {},
   "outputs": [
    {
     "name": "stdout",
     "output_type": "stream",
     "text": [
      "2024-05-02 10:56:27 - HTTP Request: POST https://api.openai.com/v1/embeddings \"HTTP/1.1 200 OK\"\n",
      "2024-05-02 10:56:29 - HTTP Request: POST https://api.openai.com/v1/embeddings \"HTTP/1.1 200 OK\"\n",
      "2024-05-02 10:56:31 - HTTP Request: POST https://api.openai.com/v1/embeddings \"HTTP/1.1 200 OK\"\n",
      "2024-05-02 10:56:31 - HTTP Request: POST https://api.openai.com/v1/embeddings \"HTTP/1.1 200 OK\"\n",
      "2024-05-02 10:56:32 - HTTP Request: POST https://api.openai.com/v1/embeddings \"HTTP/1.1 200 OK\"\n"
     ]
    },
    {
     "name": "stderr",
     "output_type": "stream",
     "text": [
      "/opt/anaconda3/envs/llmops-course/lib/python3.11/site-packages/langchain/chains/llm.py:339: UserWarning: The predict_and_parse method is deprecated, instead pass an output parser directly to LLMChain.\n",
      "  warnings.warn(\n"
     ]
    },
    {
     "name": "stdout",
     "output_type": "stream",
     "text": [
      "2024-05-02 10:56:33 - HTTP Request: POST https://api.openai.com/v1/completions \"HTTP/1.1 200 OK\"\n"
     ]
    },
    {
     "name": "stderr",
     "output_type": "stream",
     "text": [
      "/opt/anaconda3/envs/llmops-course/lib/python3.11/site-packages/langchain/chains/llm.py:339: UserWarning: The predict_and_parse method is deprecated, instead pass an output parser directly to LLMChain.\n",
      "  warnings.warn(\n"
     ]
    },
    {
     "name": "stdout",
     "output_type": "stream",
     "text": [
      "2024-05-02 10:56:35 - HTTP Request: POST https://api.openai.com/v1/completions \"HTTP/1.1 200 OK\"\n"
     ]
    },
    {
     "name": "stderr",
     "output_type": "stream",
     "text": [
      "/opt/anaconda3/envs/llmops-course/lib/python3.11/site-packages/langchain/chains/llm.py:339: UserWarning: The predict_and_parse method is deprecated, instead pass an output parser directly to LLMChain.\n",
      "  warnings.warn(\n"
     ]
    },
    {
     "name": "stdout",
     "output_type": "stream",
     "text": [
      "2024-05-02 10:56:35 - HTTP Request: POST https://api.openai.com/v1/completions \"HTTP/1.1 200 OK\"\n"
     ]
    },
    {
     "name": "stderr",
     "output_type": "stream",
     "text": [
      "/opt/anaconda3/envs/llmops-course/lib/python3.11/site-packages/langchain/chains/llm.py:339: UserWarning: The predict_and_parse method is deprecated, instead pass an output parser directly to LLMChain.\n",
      "  warnings.warn(\n"
     ]
    },
    {
     "name": "stdout",
     "output_type": "stream",
     "text": [
      "2024-05-02 10:56:35 - HTTP Request: POST https://api.openai.com/v1/completions \"HTTP/1.1 200 OK\"\n",
      "2024-05-02 10:56:36 - HTTP Request: POST https://api.openai.com/v1/chat/completions \"HTTP/1.1 200 OK\"\n",
      "response :$14,681\n"
     ]
    }
   ],
   "source": [
    "rag_prompt_template = init_prompt()\n",
    "split_chunks = split_into_chunks()\n",
    "\n",
    "# normal retriever\n",
    "qdrant_retriever = get_vector_store(split_chunks).as_retriever()\n",
    "\n",
    "#Contexttual Compression\n",
    "compressor = LLMChainExtractor.from_llm(OpenAI(temperature=0))\n",
    "compression_retriever = ContextualCompressionRetriever(\n",
    "    base_compressor=compressor, base_retriever=qdrant_retriever\n",
    ")\n",
    "\n",
    "# create a chain\n",
    "retrieval_augmented_qa_chain = (\n",
    "    {\"context\": itemgetter(\"question\") | compression_retriever, \"question\": itemgetter(\"question\")}\n",
    "    | RunnablePassthrough.assign(context=itemgetter(\"context\"))\n",
    "    | {\"response\": rag_prompt_template | openai_chat_model, \"context\": itemgetter(\"context\")}\n",
    ")\n",
    "\n",
    "response = retrieval_augmented_qa_chain.invoke({\"question\" : \"what is the value of Total cash and cash equivalents ?\"})\n",
    "print(\"response :\"+ response[\"response\"].content)\n",
    "\n"
   ]
  }
 ],
 "metadata": {
  "kernelspec": {
   "display_name": "llmops-course",
   "language": "python",
   "name": "python3"
  },
  "language_info": {
   "codemirror_mode": {
    "name": "ipython",
    "version": 3
   },
   "file_extension": ".py",
   "mimetype": "text/x-python",
   "name": "python",
   "nbconvert_exporter": "python",
   "pygments_lexer": "ipython3",
   "version": "3.11.8"
  }
 },
 "nbformat": 4,
 "nbformat_minor": 2
}
